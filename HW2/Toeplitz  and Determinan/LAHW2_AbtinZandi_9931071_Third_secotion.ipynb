{
 "cells": [
  {
   "cell_type": "code",
   "execution_count": 12,
   "id": "909c1e01",
   "metadata": {},
   "outputs": [],
   "source": [
    "import matplotlib.pyplot as plt\n",
    "import numpy as np"
   ]
  },
  {
   "cell_type": "code",
   "execution_count": 13,
   "id": "cca785a6",
   "metadata": {},
   "outputs": [
    {
     "name": "stdout",
     "output_type": "stream",
     "text": [
      "First Array:\n",
      "[0. 1. 2. 3. 4. 5. 6. 7. 8. 9.]\n",
      "secondArray:\n",
      "[10. 11. 12. 13. 14. 15. 16. 17. 18. 19.]\n"
     ]
    }
   ],
   "source": [
    "firstArray = np.arange(10,dtype=float)\n",
    "secondArray = np.arange(10,20,dtype=float)\n",
    "print(f\"First Array:\\n{firstArray}\")\n",
    "print(f\"secondArray:\\n{secondArray}\")"
   ]
  },
  {
   "cell_type": "code",
   "execution_count": 14,
   "id": "ac70334c",
   "metadata": {},
   "outputs": [],
   "source": [
    "def toeplitz_maker(firstArray,secondArray):\n",
    "    first_array_len = len(firstArray) -1 \n",
    "    second_array_len = len(secondArray) -1 \n",
    "    toeplitz_array = np.arange((first_array_len)*(second_array_len),dtype=float).reshape(first_array_len,second_array_len)\n",
    "    print(f'toeplitz array shape: {toeplitz_array.shape}')\n",
    "    second_index = second_array_len\n",
    "    col_index = 0\n",
    "    while col_index < second_array_len:\n",
    "        dif_index = second_array_len -col_index \n",
    "        if(col_index!= 0):\n",
    "            col_index_temp = col_index +1\n",
    "            index = 0\n",
    "            while col_index_temp >= 1 :\n",
    "                toeplitz_array[index,col_index] = secondArray[col_index_temp]\n",
    "                col_index_temp-=1\n",
    "                index -=-1\n",
    "                \n",
    "            col_index_temp = 1\n",
    "            \n",
    "            for i in range(index,first_array_len+1):\n",
    "                   toeplitz_array[i-1,col_index] = firstArray[col_index_temp] \n",
    "                   col_index_temp -=-1\n",
    "        else:\n",
    "            for i in range(1,first_array_len+1):\n",
    "                 toeplitz_array[i-1,col_index] = firstArray[i]       \n",
    "        col_index -=-1   \n",
    "            \n",
    "        \n",
    "    return toeplitz_array \n",
    "    "
   ]
  },
  {
   "cell_type": "code",
   "execution_count": 15,
   "id": "121be576",
   "metadata": {},
   "outputs": [
    {
     "name": "stdout",
     "output_type": "stream",
     "text": [
      "toeplitz array shape: (9, 9)\n",
      "toeplitz array:\n",
      "[[ 1. 12. 13. 14. 15. 16. 17. 18. 19.]\n",
      " [ 2.  1. 12. 13. 14. 15. 16. 17. 18.]\n",
      " [ 3.  2.  1. 12. 13. 14. 15. 16. 17.]\n",
      " [ 4.  3.  2.  1. 12. 13. 14. 15. 16.]\n",
      " [ 5.  4.  3.  2.  1. 12. 13. 14. 15.]\n",
      " [ 6.  5.  4.  3.  2.  1. 12. 13. 14.]\n",
      " [ 7.  6.  5.  4.  3.  2.  1. 12. 13.]\n",
      " [ 8.  7.  6.  5.  4.  3.  2.  1. 12.]\n",
      " [ 9.  8.  7.  6.  5.  4.  3.  2.  1.]]\n"
     ]
    }
   ],
   "source": [
    "toeplitz_array  = toeplitz_maker(firstArray,secondArray)\n",
    "print(f\"toeplitz array:\\n{toeplitz_array }\")"
   ]
  },
  {
   "cell_type": "code",
   "execution_count": 16,
   "id": "70dfc4c8",
   "metadata": {},
   "outputs": [
    {
     "data": {
      "text/plain": [
       "2974862719.999997"
      ]
     },
     "execution_count": 16,
     "metadata": {},
     "output_type": "execute_result"
    }
   ],
   "source": [
    "np.linalg.det(toeplitz_array)"
   ]
  },
  {
   "cell_type": "code",
   "execution_count": 17,
   "id": "36e5bb93",
   "metadata": {},
   "outputs": [
    {
     "name": "stdout",
     "output_type": "stream",
     "text": [
      "Echlon Form of toeplitz [[ 1.00000000e+00  1.20000000e+01  1.30000000e+01  1.40000000e+01\n",
      "   1.50000000e+01  1.60000000e+01  1.70000000e+01  1.80000000e+01\n",
      "   1.90000000e+01]\n",
      " [ 0.00000000e+00 -2.30000000e+01 -1.40000000e+01 -1.50000000e+01\n",
      "  -1.60000000e+01 -1.70000000e+01 -1.80000000e+01 -1.90000000e+01\n",
      "  -2.00000000e+01]\n",
      " [ 0.00000000e+00  0.00000000e+00 -1.73043478e+01 -7.82608696e+00\n",
      "  -8.34782609e+00 -8.86956522e+00 -9.39130435e+00 -9.91304348e+00\n",
      "  -1.04347826e+01]\n",
      " [ 0.00000000e+00  0.00000000e+00  0.00000000e+00 -1.54271357e+01\n",
      "  -5.78894472e+00 -6.15075377e+00 -6.51256281e+00 -6.87437186e+00\n",
      "  -7.23618090e+00]\n",
      " [ 0.00000000e+00  0.00000000e+00  0.00000000e+00  0.00000000e+00\n",
      "  -1.45029316e+01 -4.78436482e+00 -5.06579805e+00 -5.34723127e+00\n",
      "  -5.62866450e+00]\n",
      " [ 0.00000000e+00  0.00000000e+00  0.00000000e+00  0.00000000e+00\n",
      "   0.00000000e+00 -1.39586740e+01 -4.19153715e+00 -4.42440032e+00\n",
      "  -4.65726350e+00]\n",
      " [ 0.00000000e+00  0.00000000e+00  0.00000000e+00  0.00000000e+00\n",
      "   0.00000000e+00 -1.77635684e-15 -1.36033828e+01 -3.80357074e+00\n",
      "  -4.00375867e+00]\n",
      " [ 0.00000000e+00  0.00000000e+00  0.00000000e+00  0.00000000e+00\n",
      "   0.00000000e+00  1.98572976e-15  0.00000000e+00 -1.33552573e+01\n",
      "  -3.53184974e+00]\n",
      " [ 0.00000000e+00  0.00000000e+00  0.00000000e+00  0.00000000e+00\n",
      "   0.00000000e+00  7.86615865e-18  0.00000000e+00 -1.77635684e-15\n",
      "  -1.31734467e+01]]\n",
      "Determinant:   2974862719.999997\n"
     ]
    }
   ],
   "source": [
    "index = 0\n",
    "for column_index in range(0,toeplitz_array.shape[0]):\n",
    "    for row_index in range(index + 1,toeplitz_array.shape[1]):\n",
    "        if toeplitz_array[row_index,column_index] != 0:\n",
    "            toeplitz_array[row_index,:] -= toeplitz_array[index,:]*toeplitz_array[row_index,column_index]/toeplitz_array[index,column_index]\n",
    "    \n",
    "    index -=-1\n",
    "    \n",
    "print(\"Echlon Form of toeplitz\", toeplitz_array)\n",
    "\n",
    "determinan = 1\n",
    "for last_index in range(0,toeplitz_array.shape[0]):\n",
    "    determinan *= toeplitz_array[last_index,last_index]\n",
    "\n",
    "print(\"Determinant:  \", determinan)"
   ]
  }
 ],
 "metadata": {
  "kernelspec": {
   "display_name": "Python 3 (ipykernel)",
   "language": "python",
   "name": "python3"
  },
  "language_info": {
   "codemirror_mode": {
    "name": "ipython",
    "version": 3
   },
   "file_extension": ".py",
   "mimetype": "text/x-python",
   "name": "python",
   "nbconvert_exporter": "python",
   "pygments_lexer": "ipython3",
   "version": "3.9.7"
  }
 },
 "nbformat": 4,
 "nbformat_minor": 5
}
