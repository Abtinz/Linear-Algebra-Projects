{
 "cells": [
  {
   "cell_type": "markdown",
   "id": "e893eae0",
   "metadata": {},
   "source": [
    "# Imports"
   ]
  },
  {
   "cell_type": "code",
   "execution_count": 1,
   "id": "c57c1828",
   "metadata": {},
   "outputs": [],
   "source": [
    "import numpy as np\n",
    "import math"
   ]
  },
  {
   "cell_type": "markdown",
   "id": "556470f5",
   "metadata": {},
   "source": [
    "# Inputs"
   ]
  },
  {
   "cell_type": "code",
   "execution_count": 41,
   "id": "c2c4da07",
   "metadata": {},
   "outputs": [
    {
     "name": "stdout",
     "output_type": "stream",
     "text": [
      "please enter your elements:C H O\n",
      "please enter your chemical equation:C2 H6 + O2 -> C O2 + H2 O\n"
     ]
    }
   ],
   "source": [
    "inputed_elements = input('please enter your elements:')\n",
    "inputed_elements_array = inputed_elements.split(\" \")\n",
    "Matrix_column_size = len(inputed_elements_array)\n",
    "chemical_equation = input('please enter your chemical equation:')"
   ]
  },
  {
   "cell_type": "code",
   "execution_count": 68,
   "id": "3e271435",
   "metadata": {},
   "outputs": [
    {
     "name": "stdout",
     "output_type": "stream",
     "text": [
      "['C2 H6 ', ' O2 ']\n",
      "['C O2 ', ' H2 O ']\n"
     ]
    }
   ],
   "source": [
    "variable_counts = 0\n",
    "left_chemical_equation = \"\"\n",
    "right_chemical_equation = \"\"\n",
    "for character_index in range(0,len(chemical_equation)) :\n",
    "    if(chemical_equation[character_index] == \"-\"):\n",
    "         left_chemical_equation=chemical_equation[0:character_index] \n",
    "         right_chemical_equation = chemical_equation[character_index+3:len(chemical_equation)]\n",
    "\n",
    "splitted_left_chemical_equation = left_chemical_equation.split(\"+\")\n",
    "splitted_right_chemical_equation = right_chemical_equation.split(\"+\")\n",
    "splitted_right_chemical_equation[len(splitted_right_chemical_equation)-1] = splitted_right_chemical_equation[len(splitted_right_chemical_equation)-1] + \" \"\n",
    "variable_counts = len(splitted_left_chemical_equation) + len(splitted_right_chemical_equation)\n",
    "print(splitted_left_chemical_equation)\n",
    "print(splitted_right_chemical_equation )"
   ]
  },
  {
   "cell_type": "markdown",
   "id": "ccabebbb",
   "metadata": {},
   "source": [
    "# Agmented Matrix(n,m)"
   ]
  },
  {
   "cell_type": "markdown",
   "id": "361b727e",
   "metadata": {},
   "source": [
    "n = Matrix_column_size</br>\n",
    "m = variable_counts"
   ]
  },
  {
   "cell_type": "code",
   "execution_count": 282,
   "id": "74b40252",
   "metadata": {},
   "outputs": [
    {
     "name": "stdout",
     "output_type": "stream",
     "text": [
      "Agmented Matrix :\n",
      "[[ 2.  0. -1.  0.  0.]\n",
      " [ 6.  0.  0. -2.  0.]\n",
      " [ 0.  2. -2. -1.  0.]]\n"
     ]
    }
   ],
   "source": [
    "agmented_matrix = np.arange(0,(variable_counts+1)*Matrix_column_size,dtype='float').reshape(Matrix_column_size,variable_counts+1)*0\n",
    "\n",
    "for row_index in range(0,Matrix_column_size):\n",
    "    cul_index = -1\n",
    "    for left_string in splitted_left_chemical_equation :\n",
    "        cul_index -=-1\n",
    "        if inputed_elements_array[row_index] in left_string:\n",
    "               for index_elements in range(0,len(left_string)):\n",
    "                    if(left_string[index_elements] == inputed_elements_array[row_index]):\n",
    "                        if(left_string[index_elements+1] == \" \") : agmented_matrix[row_index,cul_index] = 1\n",
    "                        else :    \n",
    "                            agmented_matrix[row_index,cul_index] = int(left_string[index_elements+1])\n",
    "        else : agmented_matrix[row_index,cul_index] = 0\n",
    "    \n",
    "    for right_string in splitted_right_chemical_equation :\n",
    "        cul_index -=-1\n",
    "        if inputed_elements_array[row_index] in right_string:\n",
    "               for index_elements in range(0,len(right_string)):\n",
    "                    if(right_string[index_elements] == inputed_elements_array[row_index]):\n",
    "                        if(right_string[index_elements+1] == \" \") : agmented_matrix[row_index,cul_index] = -1\n",
    "                        else :\n",
    "                            agmented_matrix[row_index,cul_index] = int(right_string[index_elements+1])\n",
    "                            agmented_matrix[row_index,cul_index] *=-1\n",
    "        else : agmented_matrix[row_index,cul_index] = 0\n",
    "        \n",
    "print(f\"Agmented Matrix :\\n{agmented_matrix}\" ) "
   ]
  },
  {
   "cell_type": "markdown",
   "id": "45ab18ed",
   "metadata": {},
   "source": [
    "# sorte Agmented Matrix by pivot position"
   ]
  },
  {
   "cell_type": "markdown",
   "id": "2bef4b87",
   "metadata": {},
   "source": [
    "Here I check where exactly in each row the piviot line is located to arrange the lines by using one of the principles of the applied linear algebra lesson with the line reduction operation so that the axial lines and rows are in better order. Have for Ashlon forms"
   ]
  },
  {
   "cell_type": "code",
   "execution_count": 283,
   "id": "a86c5167",
   "metadata": {},
   "outputs": [
    {
     "name": "stdout",
     "output_type": "stream",
     "text": [
      "[[0 1]\n",
      " [2 2]\n",
      " [1 4]]\n"
     ]
    },
    {
     "data": {
      "text/plain": [
       "array([[ 2.,  0., -1.,  0.,  0.],\n",
       "       [ 0.,  2., -2., -1.,  0.],\n",
       "       [ 6.,  0.,  0., -2.,  0.]])"
      ]
     },
     "execution_count": 283,
     "metadata": {},
     "output_type": "execute_result"
    }
   ],
   "source": [
    "sorted_agmented_matrix = np.arange(0,(variable_counts+1)*Matrix_column_size,dtype='float').reshape(Matrix_column_size,variable_counts+1)*0\n",
    "piviot_array = np.arange(0,2*Matrix_column_size).reshape(Matrix_column_size,2)*0\n",
    "\n",
    "compaired_row = 0\n",
    "for row in agmented_matrix:\n",
    "    compair_culomn_index = -1\n",
    "    for cul_index in range(0,variable_counts):\n",
    "      compair_culomn_index -=-1\n",
    "      if row[cul_index] != 0:\n",
    "         if cul_index+1 in piviot_array[:, -1] :\n",
    "            pass\n",
    "         else:\n",
    "            piviot_array[compaired_row,0] = compaired_row\n",
    "            piviot_array[compaired_row,1] = cul_index+1\n",
    "            break\n",
    "    compaired_row-=-1  \n",
    "\n",
    "piviot_array = piviot_array[piviot_array[:,-1].argsort()]\n",
    "print(piviot_array)\n",
    "row_index = 0\n",
    "for row in piviot_array :\n",
    "    row_number = row[0]\n",
    "    sorted_agmented_matrix[row_index] = agmented_matrix[row_number]\n",
    "    row_index-=-1\n",
    "\n",
    "sorted_agmented_matrix"
   ]
  },
  {
   "cell_type": "markdown",
   "id": "6dd37361",
   "metadata": {},
   "source": [
    "Convert piviot positions to one"
   ]
  },
  {
   "cell_type": "code",
   "execution_count": 284,
   "id": "89d52ef2",
   "metadata": {},
   "outputs": [],
   "source": [
    "row_index = 0\n",
    "for row in sorted_agmented_matrix :\n",
    "    for cul_index in range(0,variable_counts):\n",
    "      if row[cul_index] != 0 :\n",
    "        sorted_agmented_matrix[row_index] /= row[cul_index]\n",
    "        break\n",
    "    row_index-=-1\n",
    "agmented_matrix = sorted_agmented_matrix"
   ]
  },
  {
   "cell_type": "code",
   "execution_count": 285,
   "id": "e12b21cb",
   "metadata": {},
   "outputs": [
    {
     "name": "stdout",
     "output_type": "stream",
     "text": [
      "[[ 1.          0.         -0.5         0.          0.        ]\n",
      " [ 0.          1.         -1.         -0.5         0.        ]\n",
      " [ 1.          0.          0.         -0.33333333  0.        ]]\n"
     ]
    }
   ],
   "source": [
    "print(sorted_agmented_matrix)"
   ]
  },
  {
   "cell_type": "markdown",
   "id": "48f1d9b6",
   "metadata": {},
   "source": [
    "# Formation Of Ashlon Matrix"
   ]
  },
  {
   "cell_type": "markdown",
   "id": "a905857a",
   "metadata": {},
   "source": [
    "Here I form the Ashlon matrix form, to obtain which we must convert all non-zero data to zero in the corresponding columns of the row rows with row operations and move from row to bottom in the rows."
   ]
  },
  {
   "cell_type": "code",
   "execution_count": 286,
   "id": "5c7393a3",
   "metadata": {},
   "outputs": [
    {
     "data": {
      "text/plain": [
       "array([[ 1.        ,  0.        , -0.5       ,  0.        ,  0.        ],\n",
       "       [ 0.        ,  1.        , -1.        , -0.5       ,  0.        ],\n",
       "       [ 0.        ,  0.        ,  0.5       , -0.33333333,  0.        ]])"
      ]
     },
     "execution_count": 286,
     "metadata": {},
     "output_type": "execute_result"
    }
   ],
   "source": [
    "Column_index = -1\n",
    "for row_index in range(0,Matrix_column_size):\n",
    "    Column_index -=-1\n",
    "    for second_row_index in range(row_index+1,Matrix_column_size):\n",
    "        if Column_index == variable_counts+1 or row_index == Matrix_column_size :\n",
    "            break\n",
    "        if agmented_matrix[second_row_index,Column_index] != 0 and agmented_matrix[row_index,Column_index] == 1:\n",
    "            agmented_matrix[second_row_index] -= agmented_matrix[row_index]*agmented_matrix[second_row_index,Column_index]\n",
    "agmented_matrix"
   ]
  },
  {
   "cell_type": "markdown",
   "id": "1083b386",
   "metadata": {},
   "source": [
    "Convert piviot positions to one"
   ]
  },
  {
   "cell_type": "code",
   "execution_count": 287,
   "id": "1bcc4648",
   "metadata": {},
   "outputs": [
    {
     "data": {
      "text/plain": [
       "array([[ 1.        ,  0.        , -0.5       ,  0.        ,  0.        ],\n",
       "       [ 0.        ,  1.        , -1.        , -0.5       ,  0.        ],\n",
       "       [ 0.        ,  0.        ,  1.        , -0.66666667,  0.        ]])"
      ]
     },
     "execution_count": 287,
     "metadata": {},
     "output_type": "execute_result"
    }
   ],
   "source": [
    "row_index = 0\n",
    "for row in agmented_matrix :\n",
    "    for cul_index in range(0,variable_counts):\n",
    "      if row[cul_index] != 0 :\n",
    "        agmented_matrix[row_index] /= row[cul_index]\n",
    "        break\n",
    "    row_index-=-1\n",
    "agmented_matrix"
   ]
  },
  {
   "cell_type": "markdown",
   "id": "873da53a",
   "metadata": {},
   "source": [
    "# Converting the Ashlon form to the reduced Ashlon form"
   ]
  },
  {
   "cell_type": "markdown",
   "id": "863c4b5d",
   "metadata": {},
   "source": [
    "Here I change the form of the Ashlon matrix to a reduced Ashlon, which this time, unlike the previous series, I have to go through the rows from the bottom up, and if I hit the column corresponding to the axis in the higher rows, which was not zero, add the rows Zero it."
   ]
  },
  {
   "cell_type": "code",
   "execution_count": 288,
   "id": "9a36e1f3",
   "metadata": {},
   "outputs": [
    {
     "name": "stdout",
     "output_type": "stream",
     "text": [
      "2\n",
      "1\n",
      "0\n",
      "[[ 1.          0.          0.         -0.33333333  0.        ]\n",
      " [ 0.          1.          0.         -1.16666667  0.        ]\n",
      " [ 0.          0.          1.         -0.66666667  0.        ]]\n"
     ]
    }
   ],
   "source": [
    "row_index = Matrix_column_size -1\n",
    "Column_index = variable_counts -2\n",
    "while row_index > -1:\n",
    "    print(Column_index)\n",
    "    second_row_index = row_index - 1\n",
    "    while second_row_index > -1:\n",
    "        if agmented_matrix[second_row_index,Column_index] != 0 and agmented_matrix[row_index,Column_index] == 1:\n",
    "            agmented_matrix[second_row_index] -= agmented_matrix[row_index]*agmented_matrix[second_row_index,Column_index]\n",
    "        second_row_index -=1 \n",
    "    Column_index-=1\n",
    "    row_index -=1\n",
    "print(agmented_matrix)"
   ]
  },
  {
   "cell_type": "code",
   "execution_count": 327,
   "id": "3d33576b",
   "metadata": {},
   "outputs": [
    {
     "name": "stdout",
     "output_type": "stream",
     "text": [
      "Results {\n",
      "X1 = X4*0.3333333333333333\n",
      "X2 = X4*1.1666666666666665\n",
      "X3 = X4*0.6666666666666666\n",
      "X4 is FREE varable\n",
      "}\n",
      "Reduced Echlon Matrix:\n",
      "[[ 1.          0.          0.         -0.33333333  0.        ]\n",
      " [ 0.          1.          0.         -1.16666667  0.        ]\n",
      " [ 0.          0.          1.         -0.66666667  0.        ]]\n"
     ]
    }
   ],
   "source": [
    "row_index = 1\n",
    "Column_index = variable_counts -1\n",
    "print(\"Results {\")\n",
    "for row in agmented_matrix :\n",
    "        print(f\"X{row_index} = X4*{-row[Column_index]}\")\n",
    "        row_index -=-1\n",
    "print(\"X4 is FREE varable\\n}\")\n",
    "print(f\"Reduced Echlon Matrix:\\n{agmented_matrix}\")"
   ]
  },
  {
   "cell_type": "code",
   "execution_count": null,
   "id": "950a7db0",
   "metadata": {},
   "outputs": [],
   "source": [
    "success_count = 0\n",
    "first_integer_resault = 1\n",
    "key_number = 2\n",
    "while True :\n",
    "    for row in agmented_matrix :\n",
    "        multiple = key_number*(-row[Column_index])\n",
    "        res = multiple - int(multiple)\n",
    "        if res == 0 or res > 0.8999999999999999:\n",
    "            success_count -=-1\n",
    "    if success_count == row_index:\n",
    "        first_integer_resault = key_number\n",
    "        break\n",
    "    else : \n",
    "        success_count = 0\n",
    "        key_number-=-1\n",
    "\n",
    "first_integer_resault"
   ]
  },
  {
   "cell_type": "code",
   "execution_count": 326,
   "id": "c9854ba6",
   "metadata": {},
   "outputs": [
    {
     "name": "stdout",
     "output_type": "stream",
     "text": [
      "Results {\n",
      "X1 = 2\n",
      "X2 = 7\n",
      "X3 = 4\n",
      "X4 = 6\n",
      "}\n"
     ]
    }
   ],
   "source": [
    "row_index = 1\n",
    "Column_index = variable_counts -1\n",
    "print(\"Results {\")\n",
    "for row in agmented_matrix :\n",
    "        print(f\"X{row_index} = {int((-row[Column_index] * first_integer_resault).round())}\")\n",
    "        row_index -=-1\n",
    "print(f\"X4 = {first_integer_resault}\"+\"\\n}\")"
   ]
  }
 ],
 "metadata": {
  "kernelspec": {
   "display_name": "Python 3 (ipykernel)",
   "language": "python",
   "name": "python3"
  },
  "language_info": {
   "codemirror_mode": {
    "name": "ipython",
    "version": 3
   },
   "file_extension": ".py",
   "mimetype": "text/x-python",
   "name": "python",
   "nbconvert_exporter": "python",
   "pygments_lexer": "ipython3",
   "version": "3.9.7"
  }
 },
 "nbformat": 4,
 "nbformat_minor": 5
}
